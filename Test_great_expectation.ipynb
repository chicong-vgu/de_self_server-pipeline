{
 "cells": [
  {
   "cell_type": "code",
   "execution_count": 55,
   "metadata": {},
   "outputs": [
    {
     "data": {
      "application/vnd.jupyter.widget-view+json": {
       "model_id": "0c27ff44666f4192acf4b3e3babd68a1",
       "version_major": 2,
       "version_minor": 0
      },
      "text/plain": [
       "Calculating Metrics:   0%|          | 0/1 [00:00<?, ?it/s]"
      ]
     },
     "metadata": {},
     "output_type": "display_data"
    },
    {
     "name": "stdout",
     "output_type": "stream",
     "text": [
      "   id     name  age department  salary\n",
      "0   1    Alice   25         HR   50000\n",
      "1   2      Bob   17         IT   45000\n",
      "2   3  Charlie   30         HR   60000\n",
      "3   4    David   22         IT   55000\n"
     ]
    },
    {
     "data": {
      "application/vnd.jupyter.widget-view+json": {
       "model_id": "b21c79cb04764095928fee04730755a1",
       "version_major": 2,
       "version_minor": 0
      },
      "text/plain": [
       "Calculating Metrics:   0%|          | 0/4 [00:00<?, ?it/s]"
      ]
     },
     "metadata": {},
     "output_type": "display_data"
    },
    {
     "name": "stdout",
     "output_type": "stream",
     "text": [
      "{\n",
      "  \"success\": false,\n",
      "  \"expectation_config\": {\n",
      "    \"type\": \"expect_column_max_to_be_between\",\n",
      "    \"kwargs\": {\n",
      "      \"batch_id\": \"default_pandas_datasource-#ephemeral_pandas_asset\",\n",
      "      \"column\": \"age\",\n",
      "      \"min_value\": 28.0,\n",
      "      \"max_value\": 29.0\n",
      "    },\n",
      "    \"meta\": {}\n",
      "  },\n",
      "  \"result\": {\n",
      "    \"observed_value\": 30\n",
      "  },\n",
      "  \"meta\": {},\n",
      "  \"exception_info\": {\n",
      "    \"raised_exception\": false,\n",
      "    \"exception_traceback\": null,\n",
      "    \"exception_message\": null\n",
      "  }\n",
      "}\n"
     ]
    }
   ],
   "source": [
    "import great_expectations as gx\n",
    "\n",
    "import pandas as pd\n",
    "import json\n",
    "\n",
    "context_root_dir = '/Users/chicong/Study/DE_self-serve_pipeline/great_expectations'\n",
    "context = gx.get_context(mode=\"file\", project_root_dir=context_root_dir)\n",
    "\n",
    "\n",
    "preset_expectation = gx.expectations.ExpectColumnMaxToBeBetween(column=\"age\", min_value=28, max_value=29)\n",
    "\n",
    "\n",
    "#Data source\n",
    "\n",
    "sample_batch = context.data_sources.pandas_default.read_csv('/Users/chicong/Study/DE_self-serve_pipeline/data/demo_data.csv')\n",
    "\n",
    "print(sample_batch.head())\n",
    "validation_results = sample_batch.validate(preset_expectation)\n",
    "print(validation_results)"
   ]
  }
 ],
 "metadata": {
  "kernelspec": {
   "display_name": "notebook_env",
   "language": "python",
   "name": "python3"
  },
  "language_info": {
   "codemirror_mode": {
    "name": "ipython",
    "version": 3
   },
   "file_extension": ".py",
   "mimetype": "text/x-python",
   "name": "python",
   "nbconvert_exporter": "python",
   "pygments_lexer": "ipython3",
   "version": "3.11.9"
  }
 },
 "nbformat": 4,
 "nbformat_minor": 2
}
